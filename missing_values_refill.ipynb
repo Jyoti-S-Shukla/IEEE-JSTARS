{
 "cells": [
  {
   "cell_type": "code",
   "execution_count": 2,
   "metadata": {},
   "outputs": [],
   "source": [
    "from osgeo import gdal\n",
    "import numpy as np\n",
    "import matplotlib.pyplot as plt\n",
    "import os\n",
    "from sklearn.preprocessing import MinMaxScaler"
   ]
  },
  {
   "cell_type": "code",
   "execution_count": 3,
   "metadata": {},
   "outputs": [
    {
     "data": {
      "text/plain": [
       "2066"
      ]
     },
     "execution_count": 3,
     "metadata": {},
     "output_type": "execute_result"
    }
   ],
   "source": [
    "# path = r\"F:\\Jyoti Shukla -MS\\AVHRR global data (1981-2022)\"\n",
    "# shapefile = r\"F:\\Jyoti Shukla -MS\\State.shp\"\n",
    "path = r\"F:\\Jyoti Shukla -MS\\AVHRR Karnataka data (1981-2022)\"\n",
    "dir_list = os.listdir(path)\n",
    "len(dir_list)"
   ]
  },
  {
   "cell_type": "code",
   "execution_count": 4,
   "metadata": {},
   "outputs": [],
   "source": [
    "list_relevant = ['VHP.G04.C07.NF.P1985009.VH.VHI.tif','VHP.G04.C07.NH.P1989001.VH.VHI.tif', 'VHP.G04.C07.NJ.P1995004.VH.VHI.tif','VHP.G04.C07.NL.P2004005.VH.VHI.tif', 'VHP.G04.C07.NL.P2004025.VH.VHI.tif', 'VHP.G04.C07.NL.P2004030.VH.VHI.tif']"
   ]
  },
  {
   "cell_type": "code",
   "execution_count": 5,
   "metadata": {},
   "outputs": [],
   "source": [
    "def relevant_images_for_mean(filename,path, missing_file):\n",
    "    dir_list = os.listdir(path)\n",
    "    relevant_data =[]\n",
    "    n=0\n",
    "    for file in dir_list:\n",
    "        if file == filename:\n",
    "            break \n",
    "        else:            \n",
    "            if file.endswith(\".tif\") and missing_file in file:        \n",
    "                image = os.path.join(path,file)\n",
    "                ds = gdal.Open(image)\n",
    "                array = ds.GetRasterBand(1).ReadAsArray()\n",
    "                relevant_data.append(array)\n",
    "                n+=1\n",
    "        # if file == filename:\n",
    "        #     break\n",
    "    return relevant_data, n\n",
    "       "
   ]
  },
  {
   "cell_type": "code",
   "execution_count": 191,
   "metadata": {},
   "outputs": [
    {
     "data": {
      "text/plain": [
       "(1, 1, (190, 124))"
      ]
     },
     "execution_count": 191,
     "metadata": {},
     "output_type": "execute_result"
    }
   ],
   "source": [
    "filename = 'VHP.G04.C07.NC.P1982043.VH.VHI.tif'\n",
    "missing_file = '042'\n",
    "relevant_data_1, n_1 = relevant_images_for_mean(filename, path, missing_file)\n",
    "n_1,len(relevant_data_1), relevant_data_1[0].shape"
   ]
  },
  {
   "cell_type": "code",
   "execution_count": 6,
   "metadata": {},
   "outputs": [],
   "source": [
    "def array_to_image(array,dtype,outfile,nodata):\n",
    "    path = r\"F:\\Jyoti Shukla -MS\\AVHRR Karnataka data (1981-2022)\\VHP.G04.C07.NC.P1982047.VH.VHI.tif\"  \n",
    "    image=gdal.Open(path)     \n",
    "    trans = image.GetGeoTransform()\n",
    "    proj = image.GetProjection()\n",
    "    #nodata= image.GetRasterBand(1).GetNoDataValue()\n",
    "    #out =\"testimage.tif\"\n",
    "    outdriver = gdal.GetDriverByName(\"GTIFF\")\n",
    "    outdata = outdriver.Create(str(outfile),image.RasterXSize, image.RasterYSize, 1,gdal.GDT_Float32)\n",
    "    outdata.GetRasterBand(1).WriteArray(array)\n",
    "    outdata.GetRasterBand(1).SetNoDataValue(nodata)\n",
    "    outdata.SetGeoTransform(trans)\n",
    "    outdata.SetProjection(proj)\n",
    "    outdata=None        "
   ]
  },
  {
   "cell_type": "code",
   "execution_count": 7,
   "metadata": {},
   "outputs": [],
   "source": [
    "def mean_filling(relevant_data, outfile):\n",
    "    arr = np.zeros((190,124)).astype(\"float32\")\n",
    "    n = np.zeros((arr.shape))\n",
    "    #val = np.zeros((a.shape))\n",
    "    #a = im\n",
    "\n",
    "    for img in relevant_data_1:    \n",
    "        for i in range(img.shape[0]):\n",
    "            for j in range(img.shape[1]):\n",
    "                if img[i][j] >-0.1:\n",
    "                    arr[i][j] += img[i][j]\n",
    "                    n[i][j]+=1\n",
    "                elif img[i][j] == -9999:\n",
    "                    arr[i][j] = img[i][j]\n",
    "                    n[i][j] =1\n",
    "                else:\n",
    "                    arr[i][j] = -3.4e+38\n",
    "                    n[i][j] = 1                \n",
    "    arr/= n\n",
    "    nodata = -3.4e+38\n",
    "    array_to_image(arr, \"float32\",outfile, nodata)\n",
    "    return arr"
   ]
  },
  {
   "cell_type": "code",
   "execution_count": 79,
   "metadata": {},
   "outputs": [
    {
     "data": {
      "text/plain": [
       "array([[nan, nan, nan, ..., nan, nan, nan],\n",
       "       [nan, nan, nan, ..., nan, nan, nan],\n",
       "       [nan, nan, nan, ..., nan, nan, nan],\n",
       "       ...,\n",
       "       [nan, nan, nan, ..., nan, nan, nan],\n",
       "       [nan, nan, nan, ..., nan, nan, nan],\n",
       "       [nan, nan, nan, ..., nan, nan, nan]], dtype=float32)"
      ]
     },
     "execution_count": 79,
     "metadata": {},
     "output_type": "execute_result"
    }
   ],
   "source": [
    "outfile = r\"F:\\Jyoti Shukla -MS\\AVHRR Karnataka data (1981-2022)\"+\"/VHP.G04.C07.NC.P1984050.VH.VHI.tif\"\n",
    "arr = mean_filling(relevant_data_1, outfile)\n",
    "arr"
   ]
  },
  {
   "cell_type": "code",
   "execution_count": 8,
   "metadata": {},
   "outputs": [
    {
     "name": "stdout",
     "output_type": "stream",
     "text": [
      "1\n"
     ]
    }
   ],
   "source": [
    "#1982-042\n",
    "missing_file = '042'\n",
    "relevant_data_1, n_1 = relevant_images_for_mean('VHP.G04.C07.NC.P1982043.VH.VHI.tif',path, missing_file)\n",
    "print(n_1)\n",
    "array_1 = mean_filling(relevant_data_1, r\"F:\\Jyoti Shukla -MS\\AVHRR Karnataka data (1981-2022)\"+\"/VHP.G04.C07.NC.P1982042.VH.VHI.tif\")"
   ]
  },
  {
   "cell_type": "code",
   "execution_count": 12,
   "metadata": {},
   "outputs": [
    {
     "name": "stdout",
     "output_type": "stream",
     "text": [
      "18\n"
     ]
    }
   ],
   "source": [
    "#2000-014\n",
    "missing_file = '014'\n",
    "relevant_data_2, n_2 = relevant_images_for_mean('VHP.G04.C07.NJ.P2000015.VH.VHI.tif', path, missing_file)\n",
    "print(n_2)\n",
    "array_1 = mean_filling(relevant_data_2, r\"F:\\Jyoti Shukla -MS\\AVHRR Karnataka data (1981-2022)\"+\"/VHP.G04.C07.NJ.P2000014.VH.VHI.tif\")"
   ]
  },
  {
   "cell_type": "code",
   "execution_count": null,
   "metadata": {},
   "outputs": [],
   "source": [
    "#1984-052\n",
    "relevant_data_2, n_2 = relevant_images_for_mean('VHP.G04.C07.NF.P1985009.VH.VHI.tif', dir_list,path)\n",
    "print(n_2)\n",
    "array_1 = mean_filling(relevant_data_2, r\"F:\\Jyoti Shukla -MS\\AVHRR Karnataka data (1981-2022)\"+\"/VHP.G04.C07.NC.P1984051.VH.VHI.tif\")\n",
    "\n",
    "#1984-052\n",
    "relevant_data_2, n_2 = relevant_images_for_mean('VHP.G04.C07.NF.P1985009.VH.VHI.tif', dir_list,path)\n",
    "print(n_2)\n",
    "array_1 = mean_filling(relevant_data_2, r\"F:\\Jyoti Shukla -MS\\AVHRR Karnataka data (1981-2022)\"+\"/VHP.G04.C07.NC.P1984051.VH.VHI.tif\")\n"
   ]
  },
  {
   "cell_type": "code",
   "execution_count": 10,
   "metadata": {},
   "outputs": [
    {
     "data": {
      "text/plain": [
       "55"
      ]
     },
     "execution_count": 10,
     "metadata": {},
     "output_type": "execute_result"
    }
   ],
   "source": [
    "outname = ['VHP.G04.C07.NC.P1984050.VH.VHI.tif','VHP.G04.C07.NC.P1984051.VH.VHI.tif','VHP.G04.C07.NC.P1984052.VH.VHI.tif', 'VHP.G04.C07.NF.P1985001.VH.VHI.tif', 'VHP.G04.C07.NF.P1985002.VH.VHI.tif','VHP.G04.C07.NF.P1985003.VH.VHI.tif', 'VHP.G04.C07.NF.P1985004.VH.VHI.tif', 'VHP.G04.C07.NF.P1985005.VH.VHI.tif', 'VHP.G04.C07.NF.P1985006.VH.VHI.tif','VHP.G04.C07.NF.P1985007.VH.VHI.tif', 'VHP.G04.C07.NF.P1985008.VH.VHI.tif', 'VHP.G04.C07.NF.P1988046.VH.VHI.tif','VHP.G04.C07.NF.P1988047.VH.VHI.tif','VHP.G04.C07.NF.P1988048.VH.VHI.tif','VHP.G04.C07.NF.P1988049.VH.VHI.tif','VHP.G04.C07.NF.P1988050.VH.VHI.tif','VHP.G04.C07.NF.P1988051.VH.VHI.tif','VHP.G04.C07.NF.P1988052.VH.VHI.tif','VHP.G04.C07.NH.P1994037.VH.VHI.tif','VHP.G04.C07.NH.P1994038.VH.VHI.tif','VHP.G04.C07.NH.P1994039.VH.VHI.tif','VHP.G04.C07.NH.P1994040.VH.VHI.tif','VHP.G04.C07.NH.P1994041.VH.VHI.tif','VHP.G04.C07.NH.P1994042.VH.VHI.tif','VHP.G04.C07.NH.P1994043.VH.VHI.tif','VHP.G04.C07.NH.P1994044.VH.VHI.tif','VHP.G04.C07.NH.P1994045.VH.VHI.tif','VHP.G04.C07.NH.P1994046.VH.VHI.tif','VHP.G04.C07.NH.P1994047.VH.VHI.tif','VHP.G04.C07.NH.P1994048.VH.VHI.tif', 'VHP.G04.C07.NH.P1994049.VH.VHI.tif','VHP.G04.C07.NH.P1994050.VH.VHI.tif','VHP.G04.C07.NH.P1994051.VH.VHI.tif','VHP.G04.C07.NH.P1994052.VH.VHI.tif','VHP.G04.C07.NJ.P1995001.VH.VHI.tif','VHP.G04.C07.NJ.P1995002.VH.VHI.tif','VHP.G04.C07.NJ.P1995003.VH.VHI.tif','VHP.G04.C07.NL.P2004002.VH.VHI.tif','VHP.G04.C07.NL.P2004003.VH.VHI.tif','VHP.G04.C07.NL.P2004004.VH.VHI.tif','VHP.G04.C07.NL.P2004011.VH.VHI.tif','VHP.G04.C07.NL.P2004012.VH.VHI.tif','VHP.G04.C07.NL.P2004013.VH.VHI.tif','VHP.G04.C07.NL.P2004014.VH.VHI.tif','VHP.G04.C07.NL.P2004015.VH.VHI.tif','VHP.G04.C07.NL.P2004016.VH.VHI.tif','VHP.G04.C07.NL.P2004017.VH.VHI.tif','VHP.G04.C07.NL.P2004018.VH.VHI.tif','VHP.G04.C07.NL.P2004019.VH.VHI.tif','VHP.G04.C07.NL.P2004020.VH.VHI.tif','VHP.G04.C07.NL.P2004021.VH.VHI.tif','VHP.G04.C07.NL.P2004022.VH.VHI.tif','VHP.G04.C07.NL.P2004023.VH.VHI.tif','VHP.G04.C07.NL.P2004024.VH.VHI.tif','VHP.G04.C07.NL.P2004029.VH.VHI.tif']\n",
    "len(outname)"
   ]
  },
  {
   "cell_type": "code",
   "execution_count": 9,
   "metadata": {},
   "outputs": [
    {
     "data": {
      "text/plain": [
       "55"
      ]
     },
     "execution_count": 9,
     "metadata": {},
     "output_type": "execute_result"
    }
   ],
   "source": [
    "arr = ['050','051','052', '001','002','003','004','005','006','007','008','046','047','048','049','050','051','052','037','038','039','040','041','042','043','044','045','046','047','048','049','050','051','052','001','002','003','002','003','004','011','012','013','014','015','016','017','018','019','020','021','022','023','024','029']\n",
    "len(arr)"
   ]
  },
  {
   "cell_type": "code",
   "execution_count": null,
   "metadata": {},
   "outputs": [],
   "source": [
    "for i in range(55):\n",
    "    if i<12:\n",
    "        print(outname[i])\n",
    "    if i>=12 and i<18:\n",
    "        print(outname[i])\n",
    "    if i>=18 and i<37:\n",
    "        print(outname[i])\n",
    "    if i>=37 and i<40:\n",
    "        print(outname[i])\n",
    "    if i>=40 and i<54:\n",
    "        print(outname[i])\n",
    "    else:\n",
    "        print(outname[i])\n",
    "outname[11],arr[11]"
   ]
  },
  {
   "cell_type": "code",
   "execution_count": 11,
   "metadata": {},
   "outputs": [
    {
     "name": "stdout",
     "output_type": "stream",
     "text": [
      "3\n",
      "3\n",
      "3\n",
      "3\n",
      "3\n",
      "3\n",
      "3\n",
      "3\n",
      "3\n",
      "3\n",
      "3\n",
      "4\n",
      "7\n",
      "7\n",
      "7\n",
      "7\n",
      "7\n",
      "7\n",
      "13\n",
      "13\n",
      "13\n",
      "13\n",
      "13\n",
      "13\n",
      "13\n",
      "13\n",
      "13\n",
      "13\n",
      "13\n",
      "13\n",
      "13\n",
      "13\n",
      "13\n",
      "13\n",
      "23\n",
      "23\n",
      "23\n",
      "93\n",
      "93\n",
      "45\n",
      "22\n",
      "22\n",
      "22\n",
      "21\n",
      "22\n",
      "22\n",
      "22\n",
      "22\n",
      "22\n",
      "73\n",
      "22\n",
      "22\n",
      "22\n",
      "22\n",
      "22\n"
     ]
    }
   ],
   "source": [
    "relevant_data = []\n",
    "n_data = []\n",
    "arrays = []\n",
    "for i in range(55):\n",
    "    if i<12:\n",
    "        r_data, n_ = relevant_images_for_mean(list_relevant[0],path,arr[i])\n",
    "        print(n_)\n",
    "        arr_data = mean_filling(r_data, path+'/'+outname[i])\n",
    "        relevant_data.append(r_data)\n",
    "        n_data.append(n_)\n",
    "    elif i>=12 and i<18:\n",
    "        r_data, n_ = relevant_images_for_mean(list_relevant[1],path,arr[i])\n",
    "        print(n_)\n",
    "        arr_data = mean_filling(r_data, path+'/'+outname[i])\n",
    "        relevant_data.append(r_data)\n",
    "        n_data.append(n_)\n",
    "    \n",
    "    elif i>=18 and i<37:\n",
    "        r_data, n_ = relevant_images_for_mean(list_relevant[2],path,arr[i])\n",
    "        print(n_)\n",
    "        arr_data = mean_filling(r_data, path+'/'+outname[i])\n",
    "        relevant_data.append(r_data)\n",
    "        n_data.append(n_)\n",
    "    \n",
    "    elif i>=37 and i<40:\n",
    "        r_data, n_ = relevant_images_for_mean(list_relevant[3],path,arr[i])\n",
    "        print(n_)\n",
    "        arr_data = mean_filling(r_data, path+'/'+outname[i])\n",
    "        relevant_data.append(r_data)\n",
    "        n_data.append(n_)\n",
    "\n",
    "    elif i>=40 and i<54:\n",
    "        r_data, n_ = relevant_images_for_mean(list_relevant[4],path,arr[i])\n",
    "        print(n_)\n",
    "        arr_data = mean_filling(r_data, path+'/'+outname[i])\n",
    "        relevant_data.append(r_data)\n",
    "        n_data.append(n_)\n",
    "\n",
    "    else:\n",
    "        r_data, n_ = relevant_images_for_mean(list_relevant[5],path,arr[i])\n",
    "        print(n_)\n",
    "        arr_data = mean_filling(r_data, path+'/'+outname[i])\n",
    "        relevant_data.append(r_data)\n",
    "        n_data.append(n_)"
   ]
  }
 ],
 "metadata": {
  "kernelspec": {
   "display_name": "Python 3.9.13 ('tf-gpu')",
   "language": "python",
   "name": "python3"
  },
  "language_info": {
   "codemirror_mode": {
    "name": "ipython",
    "version": 3
   },
   "file_extension": ".py",
   "mimetype": "text/x-python",
   "name": "python",
   "nbconvert_exporter": "python",
   "pygments_lexer": "ipython3",
   "version": "3.9.13"
  },
  "orig_nbformat": 4,
  "vscode": {
   "interpreter": {
    "hash": "43a8061e7cbecf0e32c40e2dfbf9cb00fdbc8b479c56ebcdb5dcefce49dd9dba"
   }
  }
 },
 "nbformat": 4,
 "nbformat_minor": 2
}
